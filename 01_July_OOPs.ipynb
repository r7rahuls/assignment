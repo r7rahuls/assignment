{
 "cells": [
  {
   "cell_type": "markdown",
   "id": "e386a930-b800-4f8a-a542-a25574f0cbe5",
   "metadata": {},
   "source": [
    "### 1. What is the primary goal of Object-Oriented Programming (OOP)?"
   ]
  },
  {
   "cell_type": "markdown",
   "id": "bae4e10f-ee34-4cd2-bbfa-4b4ac9a982e8",
   "metadata": {},
   "source": [
    "#### Primary Goal of OOP is to make the code more organised and readable. By using the concepts of OOP like Encapsulation, Inheritance, Polymorphism, Abstraction to make our code mode readable and usable."
   ]
  },
  {
   "cell_type": "markdown",
   "id": "6a4fc31f-d591-49c2-9879-aaa15f0c82e2",
   "metadata": {},
   "source": [
    " ### 2. What Is an object in python?"
   ]
  },
  {
   "cell_type": "markdown",
   "id": "c227652e-c644-4b88-a06e-f102571ad92f",
   "metadata": {},
   "source": [
    "#### Object is a fundamental concept of oop, in python everything is considered an object. It contains some attributes and methods."
   ]
  },
  {
   "cell_type": "markdown",
   "id": "0b4bc4d0-b4a5-4b31-9ea5-b32c5c43fa47",
   "metadata": {},
   "source": [
    "### 3. What is class in python?"
   ]
  },
  {
   "cell_type": "markdown",
   "id": "63574bbc-05d2-49dc-9f15-ed9407a575da",
   "metadata": {},
   "source": [
    "#### Class is a blueprint for creating objects. It defines the structure of object that is created from that class."
   ]
  },
  {
   "cell_type": "markdown",
   "id": "0c12a7cf-923f-4b8d-8900-879b85c728c6",
   "metadata": {},
   "source": [
    "### 4. What are attributes and methods in a class?"
   ]
  },
  {
   "cell_type": "markdown",
   "id": "08411ca6-8c14-448b-9978-509ba29cf58e",
   "metadata": {},
   "source": [
    "#### Attributes are the data that any object will hold and methods are the function that defines the behaviour of the object."
   ]
  },
  {
   "cell_type": "markdown",
   "id": "a9219825-cc76-427d-a4ca-8d7541613a91",
   "metadata": {},
   "source": [
    "### 5. What is the difference between class variables and instance variables in Python?"
   ]
  },
  {
   "cell_type": "markdown",
   "id": "466a2fc8-9680-4941-b010-f74c088a9f15",
   "metadata": {},
   "source": [
    "#### Class variables are declared on top sode of a class outside of any method, all the instances of that class share the same class variable and changes made by an object are reflected for all the other objects."
   ]
  },
  {
   "cell_type": "markdown",
   "id": "6df7ba3c-8cfd-4594-a742-ced160159f75",
   "metadata": {},
   "source": [
    "### 6. What is the purpose of the self parameter in Python class methods?"
   ]
  },
  {
   "cell_type": "markdown",
   "id": "c85791b8-9bf7-43e0-be80-2905532463bb",
   "metadata": {},
   "source": [
    "#### self parameter allows us to access instance variables, call other instance methods."
   ]
  },
  {
   "cell_type": "markdown",
   "id": "0c7919fc-0057-4e9d-88fb-eb97b81abd15",
   "metadata": {},
   "source": [
    "### 7. For a library management system, you have to design the \"Book\" class with OOP"
   ]
  },
  {
   "cell_type": "code",
   "execution_count": 8,
   "id": "e9f34a10-3a78-4e18-ba9c-6abeff514104",
   "metadata": {},
   "outputs": [],
   "source": [
    "class Book:\n",
    "    def __init__(self, title, author, isbn, publication_year, available_copies):\n",
    "        self.title = title\n",
    "        self.author = author\n",
    "        self.isbn = isbn\n",
    "        self.publication_year = publication_year\n",
    "        self.available_copies = available_copies\n",
    "\n",
    "    def check_out(self):\n",
    "        if self.available_copies > 0:\n",
    "            self.available_copies -= 1\n",
    "            return f\"{self.title} checked out.\"\n",
    "        else:\n",
    "            return \"Sorry, No copies available for check out.\"\n",
    "\n",
    "    def return_book(self):\n",
    "        self.available_copies += 1\n",
    "        return f\"{self.title} returned successfully.\"\n",
    "\n",
    "    def display_book_info(self):\n",
    "        return f\"Title: {self.title}\\nAuthor: {self.author}\\nISBN: {self.isbn}\\nPublication Year: {self.publication_year}\\nAvailable Copies: {self.available_copies}\"\n"
   ]
  },
  {
   "cell_type": "markdown",
   "id": "ea1f4a79-26d2-47d9-978b-d6f0d56a2efa",
   "metadata": {},
   "source": [
    "### 8. For a ticket booking system, you have to design the \"Ticket\" class with OOP principles in mind."
   ]
  },
  {
   "cell_type": "code",
   "execution_count": 11,
   "id": "054ade03-3b95-4a54-9a3b-b8a32dd3b01e",
   "metadata": {},
   "outputs": [],
   "source": [
    "class Ticket:\n",
    "    def __init__(self, ticket_id, event_name, event_date, venue, seat_number, price):\n",
    "        self.ticket_id = ticket_id\n",
    "        self.event_name = event_name\n",
    "        self.event_date = event_date\n",
    "        self.venue = venue\n",
    "        self.seat_number = seat_number\n",
    "        self.price = price\n",
    "        self.is_reserved = False\n",
    "\n",
    "    def reserve_ticket(self):\n",
    "        if self.is_reserved == False:\n",
    "            self.is_reserved = True\n",
    "            return f\"Ticket {self.ticket_id} has been reserved.\"\n",
    "        else:\n",
    "            return f\"Ticket {self.ticket_id} is already reserved.\"\n",
    "\n",
    "    def cancel_reservation(self):\n",
    "        if self.is_reserved== True:\n",
    "            self.is_reserved = False\n",
    "            return f\"Reservation for Ticket {self.ticket_id} has been canceled.\"\n",
    "        else:\n",
    "            return f\"Ticket {self.ticket_id} is not reserved.\"\n",
    "\n",
    "    def display_ticket_info(self):\n",
    "        reservation_status = \"Reserved\" if self.is_reserved else \"Not Reserved\"\n",
    "        return f\"Ticket ID: {self.ticket_id}\\nEvent Name: {self.event_name}\\nEvent Date: {self.event_date}\\nVenue: {self.venue}\\nSeat Number: {self.seat_number}\\nPrice: {self.price}\\nReservation Status: {reservation_status}\"\n",
    "\n"
   ]
  },
  {
   "cell_type": "markdown",
   "id": "56ea8217-0caf-4b8a-a336-a4e5ecb70770",
   "metadata": {},
   "source": [
    "### 9. You are creating a shopping cart for an e-commerce website."
   ]
  },
  {
   "cell_type": "code",
   "execution_count": 14,
   "id": "58f0d427-489f-4c45-9d66-dd93b627c6c5",
   "metadata": {},
   "outputs": [],
   "source": [
    "class ShoppingCart:\n",
    "    def __init__(self):\n",
    "        self.items = [] \n",
    "    def add_item(self, item):\n",
    "        self.items.append(item)\n",
    "        return f\"{item} has been added to the shopping cart.\"\n",
    "\n",
    "    def remove_item(self, item):\n",
    "        if item in self.items:\n",
    "            self.items.remove(item)\n",
    "            return f\"{item} has been removed from the shopping cart.\"\n",
    "        else:\n",
    "            return f\"{item} is not in the shopping cart.\"\n",
    "\n",
    "    def view_cart(self):\n",
    "        if not self.items:\n",
    "            return \"The shopping cart is empty.\"\n",
    "        else:\n",
    "            return \"Items in the shopping cart:\\n\" + \"\\n\".join(self.items)\n",
    "\n",
    "    def clear_cart(self):\n",
    "        self.items = []\n",
    "        return \"The shopping cart has been cleared.\"\n"
   ]
  },
  {
   "cell_type": "markdown",
   "id": "cf066d3e-301d-4c8a-a1de-a275bd08b71c",
   "metadata": {},
   "source": [
    "### 10. Imagine a school management system. You have to design the \"Student\" class using OOP concepts"
   ]
  },
  {
   "cell_type": "code",
   "execution_count": 16,
   "id": "4759e840-2b57-4ecc-9efa-08e11067976d",
   "metadata": {},
   "outputs": [],
   "source": [
    "class Student:\n",
    "    def __init__(self, name, age, grade, student_id):\n",
    "        self.name = name \n",
    "        self.age = age   \n",
    "        self.grade = grade\n",
    "        self.student_id = student_id  \n",
    "        self.attendance = {}  \n",
    "    def update_attendance(self, date, status):\n",
    "        self.attendance[date] = status \n",
    "    def get_attendance(self):\n",
    "        return self.attendance \n",
    "    def get_average_attendance(self):\n",
    "        total_days = len(self.attendance)\n",
    "        if total_days == 0:\n",
    "            return \"No attendance records\"\n",
    "        \n",
    "        present_count = sum(1 for status in self.attendance.values() if status == \"present\")\n",
    "        average_percentage = (present_count / total_days) * 100\n",
    "        return f\"Average Attendance: {average_percentage:.2f}%\"\n"
   ]
  },
  {
   "cell_type": "code",
   "execution_count": null,
   "id": "72d9030a-8d11-433f-9a97-60f376799f73",
   "metadata": {},
   "outputs": [],
   "source": []
  }
 ],
 "metadata": {
  "kernelspec": {
   "display_name": "Python 3 (ipykernel)",
   "language": "python",
   "name": "python3"
  },
  "language_info": {
   "codemirror_mode": {
    "name": "ipython",
    "version": 3
   },
   "file_extension": ".py",
   "mimetype": "text/x-python",
   "name": "python",
   "nbconvert_exporter": "python",
   "pygments_lexer": "ipython3",
   "version": "3.11.5"
  }
 },
 "nbformat": 4,
 "nbformat_minor": 5
}
