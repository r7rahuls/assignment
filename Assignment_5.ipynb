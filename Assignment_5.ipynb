{
 "cells": [
  {
   "cell_type": "markdown",
   "id": "dacc67f0-adf0-461a-884c-64099fae83ed",
   "metadata": {},
   "source": [
    "### 1. What does an empty dictionary's code look like"
   ]
  },
  {
   "cell_type": "code",
   "execution_count": 2,
   "id": "c2c86263-4bef-42ce-bc77-b09377d12052",
   "metadata": {},
   "outputs": [],
   "source": [
    "dict = {}"
   ]
  },
  {
   "cell_type": "markdown",
   "id": "cf5e79b2-ee15-4662-841a-126780ad4bb3",
   "metadata": {},
   "source": [
    "### 2. What is the value of a dictionary value with the key 'foo' and the value 42?"
   ]
  },
  {
   "cell_type": "markdown",
   "id": "e5827d7d-1132-467d-9295-662009e3716f",
   "metadata": {},
   "source": [
    "#### The values associated with key 'Foo' will be 42"
   ]
  },
  {
   "cell_type": "markdown",
   "id": "71df9650-bfc7-43f8-8ae8-bd6ab109f303",
   "metadata": {},
   "source": [
    "### 3. What is the most significant distinction between a dictionary and a list?"
   ]
  },
  {
   "cell_type": "markdown",
   "id": "37b035f6-d0fb-4bdd-9913-bc9f19724619",
   "metadata": {},
   "source": [
    "#### List values can be accessed in o(n) time while dictionary allows us to access values in o(1) time complexity."
   ]
  },
  {
   "cell_type": "markdown",
   "id": "2d931c72-7c68-425c-9c48-bd65c62436a9",
   "metadata": {},
   "source": [
    "### 4. What happens if you try to access spam['foo'] if spam is {'bar': 100}"
   ]
  },
  {
   "cell_type": "markdown",
   "id": "05618a8a-41c7-4f39-ac1f-83254acfb15e",
   "metadata": {},
   "source": [
    "#### We will get key Error because foo does not exist in spam."
   ]
  },
  {
   "cell_type": "markdown",
   "id": "26d2b180-7983-49f3-82a5-e8df318fba79",
   "metadata": {},
   "source": [
    "### 5. If a dictionary is stored in spam, what is the difference between the expressions 'cat' in spam and 'cat' in spam.keys("
   ]
  },
  {
   "cell_type": "markdown",
   "id": "4180a809-62ca-46a9-82aa-faf8a6f1825e",
   "metadata": {},
   "source": [
    "#### exp1 'cat' in spam will look for cat key directly in dictonary while exp2 'cat' in spam.key() will get all the keys first then look for cat key."
   ]
  },
  {
   "cell_type": "markdown",
   "id": "31354326-275f-4578-8cf7-f0eb7bb573a4",
   "metadata": {},
   "source": [
    "### 6. If a dictionary is stored in spam, what is the difference between the expressions 'cat' in spam and 'cat' in spam.values()?"
   ]
  },
  {
   "cell_type": "markdown",
   "id": "29f76571-3aa5-4bd8-ab5f-3ff7f78e349b",
   "metadata": {},
   "source": [
    "#### 'cat' in spam look for cat as key in dictionary while 'cat' in spam.values() will look for cat as value in dictionary"
   ]
  },
  {
   "cell_type": "markdown",
   "id": "e98183ed-29c1-4b06-a05c-4c57b8dfee1f",
   "metadata": {},
   "source": [
    "### 7. What is a shortcut for the following code?\n",
    "### if 'color' not in spam:\n",
    "### spam['color'] = 'black'"
   ]
  },
  {
   "cell_type": "markdown",
   "id": "c5eb301f-3349-408e-b5bc-a189c7ee7090",
   "metadata": {},
   "source": [
    "#### spam.setdefault('color', 'black')\n",
    "#### If key 'color' does not exist it will set a default values balck for the key 'color'"
   ]
  },
  {
   "cell_type": "markdown",
   "id": "e6f876e5-2632-47f5-a3bf-fd2299ab1cb4",
   "metadata": {},
   "source": [
    "### 8. How do you \"pretty print\" dictionary values using which module and function?"
   ]
  },
  {
   "cell_type": "code",
   "execution_count": 6,
   "id": "c498f766-c50e-42bb-be4a-63fe234b1f51",
   "metadata": {},
   "outputs": [
    {
     "name": "stdout",
     "output_type": "stream",
     "text": [
      "{'age': 30, 'city': 'New York', 'name': 'John'}\n"
     ]
    }
   ],
   "source": [
    "# We can use pprint module to pretty print dictionary values\n",
    "import pprint\n",
    "\n",
    "my_dict = {'name': 'John', 'age': 30, 'city': 'New York'}\n",
    "\n",
    "pprint.pprint(my_dict)"
   ]
  },
  {
   "cell_type": "code",
   "execution_count": null,
   "id": "89b3b554-e72a-4098-8e2b-4df55a06dd43",
   "metadata": {},
   "outputs": [],
   "source": []
  }
 ],
 "metadata": {
  "kernelspec": {
   "display_name": "Python 3 (ipykernel)",
   "language": "python",
   "name": "python3"
  },
  "language_info": {
   "codemirror_mode": {
    "name": "ipython",
    "version": 3
   },
   "file_extension": ".py",
   "mimetype": "text/x-python",
   "name": "python",
   "nbconvert_exporter": "python",
   "pygments_lexer": "ipython3",
   "version": "3.11.5"
  }
 },
 "nbformat": 4,
 "nbformat_minor": 5
}
